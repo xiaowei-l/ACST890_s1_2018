{
 "cells": [
  {
   "cell_type": "code",
   "execution_count": null,
   "metadata": {},
   "outputs": [],
   "source": [
    "#import tools\n",
    "import pandas as pd\n",
    "import numpy as np\n",
    "import matplotlib.pyplot as plt\n",
    "from scipy.stats import norm\n",
    "import seaborn as sns \n",
    "from sklearn.linear_model import LogisticRegression"
   ]
  },
  {
   "cell_type": "code",
   "execution_count": null,
   "metadata": {},
   "outputs": [],
   "source": [
    "#Q3 codes\n",
    "#a. \n",
    "import pandas as pd#import tool\n",
    "dataset = pd.read_csv('e:/890/student_results.csv')"
   ]
  },
  {
   "cell_type": "code",
   "execution_count": null,
   "metadata": {},
   "outputs": [],
   "source": [
    "#b. \n",
    "pd.isna(dataset) #checking if there was any NA\n",
    "dataset.fillna(0)#if so replace these with zeroes\n"
   ]
  },
  {
   "cell_type": "code",
   "execution_count": null,
   "metadata": {},
   "outputs": [],
   "source": [
    "#c. \n",
    "#Codes:\n",
    "#deriveing new variable\n",
    "dataset['Total.marks'] = dataset['Assessment 1']/70*7 +dataset['Assessment 2']/30*3+dataset['Assessment 3']/70*7+dataset['Assessment 4']/30*3+dataset['Online quiz 1 ']/30*3+dataset['Online quiz 2']/20*2+dataset['Online quiz 3']/30*3+dataset['Online quiz 4']/20*2+dataset['Group assignment 1']/30*2.4+dataset['Group assignment 2']/20*1.6+dataset['Group assignment 3']/50*4+dataset[' Group evaluation']/2*2+dataset['Final exam']/100*60\n",
    "dataset.ix[0:1,['Total.marks']] #displaying first 2 rows to check\n"
   ]
  },
  {
   "cell_type": "code",
   "execution_count": null,
   "metadata": {},
   "outputs": [],
   "source": [
    "#Boxplot:\n",
    "import matplotlib.pyplot as plt #import tool\n",
    "dataset.boxplot(column=\"Total.marks\",by=\"Student category\")#define elements of boxplot\n",
    "plt.title('Comparative Boxplot \\n Total.marks vs Student category')#give title\n",
    "plt.suptitle(\"\")#delete original title\n",
    "plt.xlabel('Student category')#give x-axis lable\n",
    "plt.ylabel('Total.marks')#give y-axis lable\n",
    "plt.show() #display\n"
   ]
  },
  {
   "cell_type": "code",
   "execution_count": null,
   "metadata": {},
   "outputs": [],
   "source": [
    "#d. \n",
    "#Codes:\n",
    "#derive mean, variance and SE:\n",
    "dataset['y']=dataset['Total.marks'] #make a duplicate total.mark\n",
    "m = dataset.groupby(['Class No']).y.mean()#calculate mean by class number\n",
    "v = dataset.groupby(['Class No']).y.var()#calculate variance by class number\n",
    "s = dataset.groupby(['Class No']).y.std()#calculate SE by class number\n",
    "#merge results as a data set\n",
    "df=pd.DataFrame()\n",
    "df['Mean']=m\n",
    "df['Var']=v\n",
    "df['SE']=s\n",
    "df.to_pickle(\"e:\\\\890\\\\stat\")#save as stat.table file\n",
    "df\n"
   ]
  },
  {
   "cell_type": "code",
   "execution_count": null,
   "metadata": {},
   "outputs": [],
   "source": [
    "#read back to check\n",
    "stat= pd.read_pickle(\"e:\\\\890\\\\stat.table\")\n",
    "stat\n"
   ]
  },
  {
   "cell_type": "code",
   "execution_count": null,
   "metadata": {},
   "outputs": [],
   "source": [
    "#e. \n",
    "#Code:\n",
    "#derive variable and give labels.\n",
    "bin = [0,50,65,75,85,100]#set bins to separate data\n",
    "lab=[\"F\",\"P\",\"Cr\",\"D\",\"HD\" ]\n",
    "cate = pd.cut(dataset['Total.marks'],bins=bin, labels=lab)\n",
    "cate = cate.to_frame()#convert to data frame\n",
    "dataset['Grade']=cate #merge in dataset\n",
    "dataset.head() #display to check\n"
   ]
  },
  {
   "cell_type": "code",
   "execution_count": null,
   "metadata": {},
   "outputs": [],
   "source": [
    "#f. \n",
    "#Code:\n",
    "#fit the simple linear regression\n",
    "from sklearn.linear_model import LinearRegression #import tool\n",
    "est = LinearRegression(fit_intercept = True) \n",
    "#call simple linear regression function with intercept\n",
    "y = dataset ['Total.marks'] #assign y value\n",
    "x = dataset [['Assessment 1']]#assign x value\n",
    "est.fit(x, y) #fit model\n",
    "from sklearn import metrics #import tool\n",
    "y_hat = est.predict(x) #get fitted value\n",
    "\n",
    "print (\"Coefficients:\", est.coef_) #report Coefficients\n",
    "print (\"Intercept:\", est.intercept_)#report Intercept\n",
    "print (\"Model Equation: \")\n",
    "print (\"Estimated Total.mark = %.4f + %.4f*Assessment1\" %(est.intercept_, est.coef_))\n",
    "print (\"MSE:\", metrics.mean_squared_error(y, y_hat))\n",
    "#report MSE, R^2 and variance\n",
    "print (\"R^2:\", metrics.r2_score(y, y_hat))\n",
    "print ('var:', y.var())\n"
   ]
  },
  {
   "cell_type": "code",
   "execution_count": null,
   "metadata": {},
   "outputs": [],
   "source": [
    "import seaborn as sns\n",
    "#plot regression fit\n",
    "sns.lmplot(\"Assessment 1\", \"Total.marks\", dataset , order = 1)\n",
    "ax = plt.gca()#add title\n",
    "ax.set_title(\"Simple Linear Regression\")\n"
   ]
  },
  {
   "cell_type": "code",
   "execution_count": null,
   "metadata": {},
   "outputs": [],
   "source": [
    "#g. \n",
    "#Codes:\n",
    "#fit multiple linear regression\n",
    "y_data = dataset ['Total.marks'] #assign y value\n",
    "x_data = dataset [['Assessment 1', 'Assessment 3', 'Online quiz 1 ','Group assignment 2']] #assign x value\n",
    "regr = LinearRegression () #call model\n",
    "regr.fit(x_data , y_data) #fit model\n",
    "y_hat = regr.predict(x_data) #get fitted value\n",
    "#report results\n",
    "print ('Coeff and intercept:', regr.coef_ , regr.intercept_)\n",
    "print (\"MSE:\", metrics.mean_squared_error(y_data, y_hat))\n",
    "#report MSE, R^2 and variance\n",
    "print (\"R^2:\", metrics.r2_score(y_data, y_hat))\n",
    "print ('var:', y.var())\n"
   ]
  },
  {
   "cell_type": "code",
   "execution_count": null,
   "metadata": {},
   "outputs": [],
   "source": [
    "#h. \n",
    "#Code:\n",
    "#deriving Status\n",
    "t=dataset['Grade']#geting Grade as a string\n",
    "dataset['Status']=t.replace({\"F\":\"Incomplete\", \"P\":\"Complete\", \"Cr\":\"Complete\", \"D\":\"Complete\", \"HD\":\"Complete\"})\n",
    "#recode variable as a new variable\n",
    "dataset.head()#check the new variable\n"
   ]
  },
  {
   "cell_type": "code",
   "execution_count": null,
   "metadata": {},
   "outputs": [],
   "source": [
    "#Logistic Regression\n",
    "import numpy as np\n",
    "xSta=dataset [['Assessment 3']]#getting x.data\n",
    "ySta=dataset ['Status']#getting y.data\n",
    "x_train = xSta[:100]#getting training set of x\n",
    "y_train= ySta[:100]#getting training set of y\n",
    "x_test=xSta[100:200]#testing set\n",
    "print ('Training set sizes:', x_train.shape[0])\n",
    "#fit model\n",
    "logreg = LogisticRegression ()\n",
    "logreg.fit(x_train, y_train)\n",
    "#report reults\n",
    "print ('Coeff and Intercept:', logreg.coef_ ,logreg.intercept_)\n",
    "\n",
    "#predicted values\n",
    "pred1 = logreg.predict(x_test)\n",
    "\n",
    "#confusion matrix\n",
    "from sklearn import metrics\n",
    "c_m=metrics.confusion_matrix(y_train,pred1)\n",
    "print ('Confusion Matrix by Texting set:')\n",
    "print (c_m)\n"
   ]
  }
 ],
 "metadata": {
  "kernelspec": {
   "display_name": "Python 3",
   "language": "python",
   "name": "python3"
  },
  "language_info": {
   "codemirror_mode": {
    "name": "ipython",
    "version": 3
   },
   "file_extension": ".py",
   "mimetype": "text/x-python",
   "name": "python",
   "nbconvert_exporter": "python",
   "pygments_lexer": "ipython3",
   "version": "3.6.4"
  }
 },
 "nbformat": 4,
 "nbformat_minor": 2
}
